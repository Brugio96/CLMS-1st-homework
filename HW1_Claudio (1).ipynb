{
 "cells": [
  {
   "cell_type": "markdown",
   "metadata": {},
   "source": [
    "# Audio Effects Classification using Support-vector Machine"
   ]
  },
  {
   "cell_type": "code",
   "execution_count": 1,
   "metadata": {},
   "outputs": [],
   "source": [
    "import numpy as np\n",
    "import librosa\n",
    "import os\n",
    "import sklearn.svm\n",
    "\n",
    "from tqdm.notebook import tqdm\n",
    "from IPython.display import Audio"
   ]
  },
  {
   "cell_type": "markdown",
   "metadata": {},
   "source": [
    "# Load Files and Create Lables"
   ]
  },
  {
   "cell_type": "code",
   "execution_count": 2,
   "metadata": {},
   "outputs": [
    {
     "data": {
      "application/vnd.jupyter.widget-view+json": {
       "model_id": "676be1f1a5bb463da5647bc2e1cdc2c7",
       "version_major": 2,
       "version_minor": 0
      },
      "text/plain": [
       "Loading audio samples: 0it [00:00, ?it/s]"
      ]
     },
     "metadata": {},
     "output_type": "display_data"
    },
    {
     "data": {
      "application/vnd.jupyter.widget-view+json": {
       "model_id": "a47258f261534d8f800695d074b8d8bc",
       "version_major": 2,
       "version_minor": 0
      },
      "text/plain": [
       "Loading audio samples: 0it [00:00, ?it/s]"
      ]
     },
     "metadata": {},
     "output_type": "display_data"
    },
    {
     "data": {
      "application/vnd.jupyter.widget-view+json": {
       "model_id": "764f0a21e90e436b97af3cbbc42897c1",
       "version_major": 2,
       "version_minor": 0
      },
      "text/plain": [
       "Loading audio samples: 0it [00:00, ?it/s]"
      ]
     },
     "metadata": {},
     "output_type": "display_data"
    },
    {
     "data": {
      "application/vnd.jupyter.widget-view+json": {
       "model_id": "7780afbef038490ea1920daec17e2d9c",
       "version_major": 2,
       "version_minor": 0
      },
      "text/plain": [
       "Loading audio samples: 0it [00:00, ?it/s]"
      ]
     },
     "metadata": {},
     "output_type": "display_data"
    },
    {
     "data": {
      "application/vnd.jupyter.widget-view+json": {
       "model_id": "169e2f493106457489ec1a28df7151bf",
       "version_major": 2,
       "version_minor": 0
      },
      "text/plain": [
       "Loading audio samples: 0it [00:00, ?it/s]"
      ]
     },
     "metadata": {},
     "output_type": "display_data"
    },
    {
     "name": "stdout",
     "output_type": "stream",
     "text": [
      "['Tremolo', 'NoFX', 'Distortion', 'Flanger', 'Overdrive']\n"
     ]
    },
    {
     "data": {
      "text/plain": [
       "8112"
      ]
     },
     "execution_count": 2,
     "metadata": {},
     "output_type": "execute_result"
    }
   ],
   "source": [
    "root = 'Input/IDMT-SMT-AUDIO-EFFECTS/Gitarre monophon/'\n",
    "classes = []\n",
    "fileList = []\n",
    "fileLable = []\n",
    "\n",
    "sub_dirs = [x[0] for x in os.walk(root)]\n",
    "\n",
    "for sub_dir in sub_dirs[1:]:\n",
    "    className = os.path.basename(sub_dir) # return the last term of path\n",
    "    classes.append(className)\n",
    "    \n",
    "    prog_bar = tqdm(desc='Loading audio samples')\n",
    "    prog_bar.reset(total=len(os.listdir(sub_dir))) \n",
    "    \n",
    "    file_list = [f for f in os.listdir(sub_dir) if f.endswith('.wav')]\n",
    "    \n",
    "    for f in file_list:\n",
    "        fileList.append(os.path.join(sub_dir,f))\n",
    "        fileLable.append(className)\n",
    "        prog_bar.update()\n",
    "    \n",
    "    prog_bar.refresh();\n",
    "\n",
    "print(classes)\n",
    "len(fileList)"
   ]
  },
  {
   "cell_type": "markdown",
   "metadata": {},
   "source": [
    "# Compute Features"
   ]
  },
  {
   "cell_type": "code",
   "execution_count": 3,
   "metadata": {},
   "outputs": [],
   "source": [
    "from sklearn.decomposition import PCA\n",
    "\n",
    "def normalization(data):\n",
    "    _range = np.max(data) - np.min(data)\n",
    "    return (data - np.min(data)) / _range\n",
    "\n",
    "# def feature_reduction(n, X):\n",
    "#     pca = PCA(n_components=n)\n",
    "#     return pca.fit_transform(X)"
   ]
  },
  {
   "cell_type": "code",
   "execution_count": 4,
   "metadata": {
    "scrolled": true
   },
   "outputs": [
    {
     "data": {
      "application/vnd.jupyter.widget-view+json": {
       "model_id": "755165211b794bbc8ecfb76f7a89e409",
       "version_major": 2,
       "version_minor": 0
      },
      "text/plain": [
       "Loading audio samples: 0it [00:00, ?it/s]"
      ]
     },
     "metadata": {},
     "output_type": "display_data"
    }
   ],
   "source": [
    "window_parameters={\n",
    "    'n_fft': 4096,\n",
    "    'hop_length': 2048,\n",
    "    #'win_length':2048,\n",
    "    'window': 'hamming',\n",
    "    'center': True\n",
    "}\n",
    "n_mels = 40\n",
    "n_mfcc = 21\n",
    "\n",
    "samples = len(fileList)\n",
    "features = np.zeros((samples, 68))\n",
    "\n",
    "prog_bar = tqdm(desc='Loading audio samples')\n",
    "prog_bar.reset(total=samples) \n",
    "\n",
    "for index, f in enumerate(fileList): \n",
    "    # Step1: load audio\n",
    "    audio, fs = librosa.load(f, sr=None)\n",
    "    \n",
    "    #Step2: compute features\n",
    "#     speCen = librosa.feature.spectral_centroid(y=audio, sr=fs, **window_parameters)\n",
    "#     speRol = librosa.feature.spectral_rolloff(y=audio, sr=fs, **window_parameters)\n",
    "#     speFla = librosa.feature.spectral_flatness(y=audio, **window_parameters)\n",
    "    mel = librosa.feature.melspectrogram(y=audio, sr=fs, **window_parameters,\n",
    "                                        n_mels=n_mels)\n",
    "    mfcc = librosa.feature.mfcc(y=audio, sr=fs, **window_parameters,\n",
    "                                n_mfcc=n_mfcc,norm='ortho')\n",
    "    speCon = librosa.feature.spectral_contrast(y=audio, sr=fs, **window_parameters)\n",
    "    \n",
    "    # Step3: normalize features\n",
    "#     speCen = normalization(speCen).flatten(order='F')\n",
    "#     speRol = normalization(speRol).flatten(order='F')\n",
    "#     speFla = normalization(speFla).flatten(order='F')\n",
    "    mel = np.mean(mel, axis=1)\n",
    "    mfcc = np.mean(mfcc, axis=1)\n",
    "    speCon = np.mean(speCon, axis=1)\n",
    "\n",
    "    # Step4: concatenate features\n",
    "#     feature = np.concatenate((speCen, speRol, speFla, mel, mfcc, speCon), axis=0)\n",
    "    feature = np.concatenate((mel, mfcc, speCon), axis=0) \n",
    "    features[index, :] = feature \n",
    "    \n",
    "#     print(\"shape of Spectral Roll-off is :\",format(speRol.shape))\n",
    "#     print(\"shape of Spectral Flatness is :\",format(speFla.shape))\n",
    "#     print(\"shape of Spectral Centroid is :\",format(speCen.shape))\n",
    "#     print(\"shape of Mel is :\",format(mel.shape))\n",
    "#     print(\"shape of MFCCs is :\",format(mfcc.shape))\n",
    "#     print(\"shape of Spectral Contrast is :\",format(speCon.shape))  \n",
    "#     print(\"shape of feature is :\",format(feature.shape))\n",
    "    \n",
    "#     if index == 3:\n",
    "#         break\n",
    "  \n",
    "    prog_bar.update()\n",
    "    \n",
    "prog_bar.refresh();"
   ]
  },
  {
   "cell_type": "code",
   "execution_count": 5,
   "metadata": {},
   "outputs": [
    {
     "name": "stdout",
     "output_type": "stream",
     "text": [
      "8112\n",
      "(8112, 68)\n"
     ]
    },
    {
     "data": {
      "text/plain": [
       "array([[6.92163408e-01, 2.36410809e+00, 4.87328386e+00, ...,\n",
       "        1.79460199e+01, 9.69660767e+00, 1.17331091e+01],\n",
       "       [6.25193352e-04, 5.58002852e-04, 1.19540200e-03, ...,\n",
       "        2.14417153e+01, 1.42077867e+01, 1.20202560e+01],\n",
       "       [1.27158978e-03, 1.66339322e-03, 1.29828501e+00, ...,\n",
       "        1.86860568e+01, 1.28776725e+01, 1.29063740e+01],\n",
       "       ...,\n",
       "       [7.49591291e-02, 2.70893745e+01, 3.05204487e+01, ...,\n",
       "        2.50207350e+01, 2.20545532e+01, 1.78973772e+01],\n",
       "       [4.22488488e-02, 7.18003884e-02, 4.91753159e+01, ...,\n",
       "        1.92614842e+01, 1.13580077e+01, 9.01131607e+00],\n",
       "       [2.25107908e+00, 1.37541489e+02, 4.93569660e+00, ...,\n",
       "        1.94085261e+01, 1.52783196e+01, 1.38284656e+01]])"
      ]
     },
     "execution_count": 5,
     "metadata": {},
     "output_type": "execute_result"
    }
   ],
   "source": [
    "print(len(features))\n",
    "print(features.shape)\n",
    "features"
   ]
  },
  {
   "cell_type": "code",
   "execution_count": 6,
   "metadata": {},
   "outputs": [],
   "source": [
    "feat_max = np.max(features)\n",
    "feat_min = np.min(features)\n",
    "features = (features - feat_min) / (feat_max - feat_min)"
   ]
  },
  {
   "cell_type": "markdown",
   "metadata": {},
   "source": [
    "# Split Dataset"
   ]
  },
  {
   "cell_type": "code",
   "execution_count": 7,
   "metadata": {},
   "outputs": [
    {
     "name": "stdout",
     "output_type": "stream",
     "text": [
      "(6489, 68) (1623, 68)\n"
     ]
    }
   ],
   "source": [
    "from sklearn.model_selection import train_test_split\n",
    "X_train,X_test,y_train,y_test = train_test_split(features, fileLable, test_size = 0.2)\n",
    "print(X_train.shape, X_test.shape)"
   ]
  },
  {
   "cell_type": "code",
   "execution_count": 8,
   "metadata": {},
   "outputs": [],
   "source": [
    "##GMM\n",
    "#gmm_0 = "
   ]
  },
  {
   "cell_type": "markdown",
   "metadata": {},
   "source": [
    "# SVM: multiclass case"
   ]
  },
  {
   "cell_type": "markdown",
   "metadata": {},
   "source": [
    "## Define and train a model"
   ]
  },
  {
   "cell_type": "code",
   "execution_count": 9,
   "metadata": {},
   "outputs": [
    {
     "name": "stdout",
     "output_type": "stream",
     "text": [
      "The accuracy is 0.8860135551447936\n"
     ]
    }
   ],
   "source": [
    "SVM_parameters={\n",
    "    'C': 4,\n",
    "    'kernel': 'poly', #rbf, poly\n",
    "}\n",
    "\n",
    "ss = sklearn.svm.SVC(**SVM_parameters, probability=True)\n",
    "ss.fit(X_train, y_train)\n",
    "accuracy = ss.score(X_test, y_test)\n",
    "print(\"The accuracy is\",format(accuracy))"
   ]
  },
  {
   "cell_type": "markdown",
   "metadata": {},
   "source": [
    "## Evaluate and Output the Confusion Matrix"
   ]
  },
  {
   "cell_type": "code",
   "execution_count": 10,
   "metadata": {},
   "outputs": [
    {
     "name": "stdout",
     "output_type": "stream",
     "text": [
      "Confusion matrix\n",
      "[[358   0   0   2   0]\n",
      " [  0 305   6   1  80]\n",
      " [  0   5 105   0  18]\n",
      " [  3   3   0 354   0]\n",
      " [  0  53  14   0 316]]\n",
      "Normalized confusion matrix\n",
      "[[0.99444444 0.         0.         0.00555556 0.        ]\n",
      " [0.         0.77806122 0.01530612 0.00255102 0.20408163]\n",
      " [0.         0.0390625  0.8203125  0.         0.140625  ]\n",
      " [0.00833333 0.00833333 0.         0.98333333 0.        ]\n",
      " [0.         0.1383812  0.03655352 0.         0.82506527]]\n"
     ]
    },
    {
     "data": {
      "image/png": "[encoded data removed]",
      "text/plain": [
       "<Figure size 432x288 with 2 Axes>"
      ]
     },
     "metadata": {
      "needs_background": "light"
     },
     "output_type": "display_data"
    },
    {
     "data": {
      "image/png": "[encoded data removed]",
      "text/plain": [
       "<Figure size 432x288 with 2 Axes>"
      ]
     },
     "metadata": {
      "needs_background": "light"
     },
     "output_type": "display_data"
    }
   ],
   "source": [
    "from sklearn.metrics import confusion_matrix\n",
    "from sklearn.metrics import plot_confusion_matrix\n",
    "import matplotlib.pyplot as plt\n",
    "\n",
    "titles_options = [(\"Confusion matrix\", None),\n",
    "                  (\"Normalized confusion matrix\", 'true')]\n",
    "for title, normalize in titles_options:\n",
    "    disp = plot_confusion_matrix(ss, X_test, y_test,\n",
    "                                 display_labels=classes,\n",
    "                                 cmap=plt.cm.Blues,\n",
    "                                 normalize=normalize)\n",
    "    disp.ax_.set_title(title)\n",
    "\n",
    "    print(title)\n",
    "    print(disp.confusion_matrix)\n",
    "\n",
    "plt.show()"
   ]
  }
 ],
 "metadata": {
  "kernelspec": {
   "display_name": "Python 3",
   "language": "python",
   "name": "python3"
  },
  "language_info": {
   "codemirror_mode": {
    "name": "ipython",
    "version": 3
   },
   "file_extension": ".py",
   "mimetype": "text/x-python",
   "name": "python",
   "nbconvert_exporter": "python",
   "pygments_lexer": "ipython3",
   "version": "3.8.5"
  },
  "toc": {
   "base_numbering": 1,
   "nav_menu": {},
   "number_sections": true,
   "sideBar": true,
   "skip_h1_title": false,
   "title_cell": "Table of Contents",
   "title_sidebar": "Contents",
   "toc_cell": false,
   "toc_position": {
    "height": "calc(100% - 180px)",
    "left": "10px",
    "top": "150px",
    "width": "268px"
   },
   "toc_section_display": true,
   "toc_window_display": false
  }
 },
 "nbformat": 4,
 "nbformat_minor": 5
}
