{
 "cells": [
  {
   "cell_type": "markdown",
   "id": "downtown-pencil",
   "metadata": {},
   "source": [
    "# Audio Effects Classification using Support-vector Machine"
   ]
  },
  {
   "cell_type": "code",
   "execution_count": 451,
   "id": "compatible-stephen",
   "metadata": {
    "pycharm": {
     "is_executing": true
    }
   },
   "outputs": [],
   "source": [
    "import numpy as np\n",
    "import librosa\n",
    "import os\n",
    "import sklearn.svm\n",
    "from sklearn.feature_selection import SelectKBest, chi2, mutual_info_classif,f_classif\n",
    "from sklearn.neighbors import KNeighborsClassifier\n",
    "from sklearn.linear_model import LogisticRegression\n",
    "from sklearn.preprocessing import StandardScaler\n",
    "from sklearn.tree import DecisionTreeClassifier\n",
    "from tqdm.notebook import tqdm\n",
    "from IPython.display import Audio\n",
    "from sklearn.preprocessing import StandardScaler,MinMaxScaler\n",
    "from sklearn.decomposition import PCA\n",
    "import pandas as pd\n",
    "from sklearn.model_selection import cross_val_score\n"
   ]
  },
  {
   "cell_type": "code",
   "execution_count": null,
   "id": "several-syndicate",
   "metadata": {},
   "outputs": [],
   "source": []
  },
  {
   "cell_type": "markdown",
   "id": "coated-adams",
   "metadata": {},
   "source": [
    "# Load Files and Create Lables"
   ]
  },
  {
   "cell_type": "code",
   "execution_count": 452,
   "id": "spectacular-thousand",
   "metadata": {},
   "outputs": [
    {
     "data": {
      "application/vnd.jupyter.widget-view+json": {
       "model_id": "25688177ca0c4bcab3ed69bc8613044e",
       "version_major": 2,
       "version_minor": 0
      },
      "text/plain": [
       "Loading audio samples: 0it [00:00, ?it/s]"
      ]
     },
     "metadata": {},
     "output_type": "display_data"
    },
    {
     "data": {
      "application/vnd.jupyter.widget-view+json": {
       "model_id": "5d515e05c4fe4129a1a8282c5478288a",
       "version_major": 2,
       "version_minor": 0
      },
      "text/plain": [
       "Loading audio samples: 0it [00:00, ?it/s]"
      ]
     },
     "metadata": {},
     "output_type": "display_data"
    },
    {
     "data": {
      "application/vnd.jupyter.widget-view+json": {
       "model_id": "06c6bf960b3d4e778553d74446753385",
       "version_major": 2,
       "version_minor": 0
      },
      "text/plain": [
       "Loading audio samples: 0it [00:00, ?it/s]"
      ]
     },
     "metadata": {},
     "output_type": "display_data"
    },
    {
     "name": "stdout",
     "output_type": "stream",
     "text": [
      "['Tremolo', 'NoFX', 'Distortion']\n"
     ]
    },
    {
     "data": {
      "text/plain": [
       "4368"
      ]
     },
     "execution_count": 452,
     "metadata": {},
     "output_type": "execute_result"
    }
   ],
   "source": [
    "root = '/Users/Progetti Programmazione/PyCharm/CMLS/HW1/Dataset/IDMT-SMT-AUDIO-EFFECTS/Gitarre monophon/Samples'\n",
    "classes = []\n",
    "fileList = []\n",
    "fileLable = []\n",
    "\n",
    "\n",
    "\n",
    "sub_dirs = [x[0] for x in os.walk(root)]\n",
    "\n",
    "for sub_dir in sub_dirs[1:]:\n",
    "    className = os.path.basename(sub_dir) # return the last term of path\n",
    "    classes.append(className)\n",
    "    \n",
    "    prog_bar = tqdm(desc='Loading audio samples')\n",
    "    prog_bar.reset(total=len(os.listdir(sub_dir))) \n",
    "    \n",
    "    file_list = [f for f in os.listdir(sub_dir) if f.endswith('.wav')]\n",
    "    \n",
    "    for f in file_list:\n",
    "        fileList.append(os.path.join(sub_dir,f))\n",
    "        fileLable.append(className)\n",
    "        prog_bar.update()\n",
    "    \n",
    "    prog_bar.refresh();\n",
    "\n",
    "print(classes)\n",
    "len(fileList)"
   ]
  },
  {
   "cell_type": "markdown",
   "id": "incoming-medium",
   "metadata": {},
   "source": [
    "# Compute Features"
   ]
  },
  {
   "cell_type": "code",
   "execution_count": 455,
   "id": "early-arrival",
   "metadata": {},
   "outputs": [],
   "source": [
    "def featuresList(): #List of all the computed features\n",
    "    return [\n",
    "        'Average Centroid', 'Rolloff','Flatness', 'Zero crossing rate', 'Mfc1', 'Mfc2', 'Mfc3', 'Mfc4',\n",
    "        'Mfc5', 'Mfc6', 'Mfc7', 'Mfc8', 'Mfc9', 'Mfc10', 'Mfc11', 'Mfc12', 'Mfc13', 'Mfc14', 'Mfc15', 'Mfc16',\n",
    "        'Mfc17', 'Mfc18', 'Mfc19', 'Mfc20', 'Mfc21', 'Mel1', 'Mel2','Mel3','Mel4','Mel5','Mel6','Mel7','Mel8','Mel9',\n",
    "        'Mel10','Mel11','Mel12','Mel13','Mel14','Mel15','Mel16','Mel17','Mel18','Mel19','Mel20','Mel21','Mel22','Mel23',\n",
    "        'Mel24','Mel25','Mel26','Mel27','Mel28','Mel29','Mel30','Mel31','Mel32','Mel33','Mel34','Mel35','Mel36','Mel37',\n",
    "        'Mel38','Mel39','Mel40','Cont1','Cont2','Cont3','Cont4','Cont5','Cont6','Cont7']\n"
   ]
  },
  {
   "cell_type": "code",
   "execution_count": 476,
   "id": "confirmed-infection",
   "metadata": {
    "scrolled": true
   },
   "outputs": [
    {
     "data": {
      "application/vnd.jupyter.widget-view+json": {
       "model_id": "35b7a9df31684c29b6c2635eb4769a94",
       "version_major": 2,
       "version_minor": 0
      },
      "text/plain": [
       "Loading audio samples: 0it [00:00, ?it/s]"
      ]
     },
     "metadata": {},
     "output_type": "display_data"
    }
   ],
   "source": [
    "window_parameters={\n",
    "    'n_fft': 1024,\n",
    "    'hop_length': 512,\n",
    "    #'win_length':2048,\n",
    "    'window': 'hamming',\n",
    "    'center': True\n",
    "}\n",
    "\n",
    "n_mels = 40\n",
    "n_mfcc = 21\n",
    "\n",
    "samples = len(fileList)\n",
    "features = np.zeros((samples, 72))\n",
    "\n",
    "prog_bar = tqdm(desc='Loading audio samples')\n",
    "prog_bar.reset(total=samples)\n",
    "\n",
    "\n",
    "\n",
    "for index, f in enumerate(fileList): \n",
    "    # Step1: load audio\n",
    "    audio, fs = librosa.load(f, sr=None)\n",
    "    \n",
    "    audio = audio/(np.abs(audio).max())\n",
    "\n",
    "    \n",
    "    #Step2: compute features\n",
    "    speCen = np.array([np.average(librosa.feature.spectral_centroid(y=audio, sr=fs, **window_parameters))])\n",
    "    \n",
    "    speRol = np.array([np.nanmean(np.trim_zeros(librosa.feature.spectral_rolloff(y=audio, sr=fs, **window_parameters)[0]))])\n",
    "   \n",
    "    speFla = np.array([np.nanmean(np.trim_zeros(librosa.feature.spectral_flatness(y=audio,\n",
    "                                                 **window_parameters)[0]))])\n",
    "    zcr = np.array([np.max(librosa.feature.zero_crossing_rate(y=audio,\n",
    "                                                         hop_length=window_parameters.get('hop_length')))])\n",
    "\n",
    "    mfcc = np.mean(librosa.feature.mfcc(y=audio, sr=fs, **window_parameters,\n",
    "                                n_mfcc=n_mfcc,norm='ortho'), axis=1)\n",
    "    mel = np.mean(librosa.feature.melspectrogram(y=audio, sr=fs, **window_parameters,\n",
    "                                        n_mels=n_mels), axis = 1)\n",
    "    speCon = np.mean(librosa.feature.spectral_contrast(y=audio, sr=fs, **window_parameters), axis=1)\n",
    "    \n",
    "    \n",
    "    feature = np.concatenate((mel, mfcc, speCon, speCen, speRol, speFla, zcr), axis=0)\n",
    "    features[index, :] = feature \n",
    "    \n",
    "  \n",
    "    prog_bar.update()\n",
    "    \n",
    "prog_bar.refresh();\n",
    "\n",
    "\n",
    "\n"
   ]
  },
  {
   "cell_type": "code",
   "execution_count": null,
   "id": "voluntary-banner",
   "metadata": {},
   "outputs": [],
   "source": []
  },
  {
   "cell_type": "code",
   "execution_count": 360,
   "id": "oriented-click",
   "metadata": {},
   "outputs": [],
   "source": [
    "\n",
    "features_list = featuresList()\n",
    "\n",
    "\n",
    "\n",
    "df = pd.DataFrame(features,\n",
    "                   columns=features_list)\n",
    "\n",
    "\n",
    "\n",
    "\n",
    "\n"
   ]
  },
  {
   "cell_type": "code",
   "execution_count": null,
   "id": "likely-cursor",
   "metadata": {
    "pycharm": {
     "name": "#%%\n"
    }
   },
   "outputs": [],
   "source": []
  },
  {
   "cell_type": "markdown",
   "id": "arbitrary-classification",
   "metadata": {},
   "source": [
    "# Split Train-Test\n"
   ]
  },
  {
   "cell_type": "code",
   "execution_count": 477,
   "id": "painful-affair",
   "metadata": {},
   "outputs": [
    {
     "name": "stdout",
     "output_type": "stream",
     "text": [
      "(3494, 72) (874, 72)\n"
     ]
    }
   ],
   "source": [
    "\n",
    "from sklearn.model_selection import train_test_split, cross_val_score\n",
    "X_train,X_test,y_train,y_test = train_test_split(features, fileLable, test_size = 0.20)\n",
    "print(X_train.shape, X_test.shape)\n",
    "\n",
    "\n",
    "\n",
    "\n"
   ]
  },
  {
   "cell_type": "code",
   "execution_count": null,
   "id": "every-locator",
   "metadata": {},
   "outputs": [],
   "source": []
  },
  {
   "cell_type": "markdown",
   "id": "adjustable-stuart",
   "metadata": {},
   "source": [
    "# Features Normalization\n"
   ]
  },
  {
   "cell_type": "code",
   "execution_count": 478,
   "id": "hindu-citizen",
   "metadata": {},
   "outputs": [],
   "source": [
    "#separate Normalization\n",
    "\n",
    "mms = MinMaxScaler()\n",
    "X_train_std = mms.fit_transform(X_train)\n",
    "X_test_std = mms.transform(X_test)"
   ]
  },
  {
   "cell_type": "markdown",
   "id": "vanilla-creek",
   "metadata": {},
   "source": [
    "# PCA"
   ]
  },
  {
   "cell_type": "code",
   "execution_count": 417,
   "id": "hazardous-mediterranean",
   "metadata": {
    "pycharm": {
     "name": "#%%\n"
    }
   },
   "outputs": [
    {
     "name": "stdout",
     "output_type": "stream",
     "text": [
      "[[-1.01883865 -0.02713224 -0.16725198 ... -0.00728244 -0.08075243\n",
      "  -0.0631188 ]\n",
      " [ 0.24229355  0.35675357  0.53908808 ...  0.05140837  0.12032055\n",
      "  -0.03806827]\n",
      " [-0.63199815  0.08592605 -0.31404134 ... -0.06025414  0.03783126\n",
      "   0.11036473]\n",
      " ...\n",
      " [-0.31424784 -0.30918029  0.07421802 ...  0.14805857 -0.00425208\n",
      "  -0.25660788]\n",
      " [-0.86830755  0.19242047 -0.1515498  ...  0.10729558 -0.08415814\n",
      "  -0.04829377]\n",
      " [ 0.88250306  0.00984324  0.19927311 ...  0.020369   -0.18225038\n",
      "  -0.10006819]]\n"
     ]
    }
   ],
   "source": [
    "#pca = PCA(n_components=10)\n",
    "#X_train_std = pca.fit_transform(X_train_std)\n",
    "#X_test_std = pca.transform(X_test_std)\n",
    "#print(X_train_std)"
   ]
  },
  {
   "cell_type": "markdown",
   "id": "spatial-framework",
   "metadata": {},
   "source": [
    "# Selection of K Best Features\n"
   ]
  },
  {
   "cell_type": "code",
   "execution_count": 499,
   "id": "cutting-lighting",
   "metadata": {
    "code_folding": [],
    "scrolled": true
   },
   "outputs": [
    {
     "name": "stdout",
     "output_type": "stream",
     "text": [
      "[40 70]\n",
      "[[0.05080999 0.32897286]\n",
      " [0.28469243 0.69000968]\n",
      " [0.70886308 0.0859428 ]\n",
      " ...\n",
      " [0.60491624 0.07734564]\n",
      " [0.36444872 0.42673926]\n",
      " [0.66199446 0.0837447 ]]\n",
      "['Mel16', 'Cont6']\n"
     ]
    }
   ],
   "source": [
    "#Features selection on Training set\n",
    "features_selector = SelectKBest(chi2, k=2)\n",
    "X_train_sel_features = features_selector.fit_transform(X_train_std, y_train)\n",
    "selected_columns = features_selector.get_support(indices=True)\n",
    "print(selected_columns)\n",
    "print(X_train_sel_features)\n",
    "\n",
    "\n",
    "selected_features_names = []\n",
    "i = 0\n",
    "for column in selected_columns:\n",
    "    current_selected_feature = features_list[column]\n",
    "    selected_features_names.append(current_selected_feature)\n",
    "    i=i+1\n",
    "print(selected_features_names) #List of the k best features names\n",
    "\n",
    "\n",
    "X_test_sel_features = features_selector.transform(X_test_std)\n",
    "#X_test_sel_features = X_test_norm[:,selected_columns] #filtering the features in Testing set\n",
    "                                                      #based on K best features computed on the Training set\n",
    "\n",
    "\n",
    "\n",
    "\n"
   ]
  },
  {
   "cell_type": "code",
   "execution_count": null,
   "id": "prospective-listing",
   "metadata": {},
   "outputs": [],
   "source": []
  },
  {
   "cell_type": "markdown",
   "id": "demographic-publisher",
   "metadata": {},
   "source": [
    "# SVM: multiclass case"
   ]
  },
  {
   "cell_type": "markdown",
   "id": "hourly-registrar",
   "metadata": {},
   "source": [
    "## Define and train a model"
   ]
  },
  {
   "cell_type": "code",
   "execution_count": 500,
   "id": "regulation-trademark",
   "metadata": {},
   "outputs": [
    {
     "name": "stdout",
     "output_type": "stream",
     "text": [
      "The SVM accuracy is 0.9084668192219679\n"
     ]
    }
   ],
   "source": [
    "\n",
    "#SVM Model\n",
    "SVM_parameters={\n",
    "    'C': 100,\n",
    "    'kernel': 'rbf', #rbf, poly\n",
    "    'gamma' : 1,\n",
    "    'class_weight':'balanced'\n",
    "    \n",
    "}\n",
    "\n",
    "ss = sklearn.svm.SVC(**SVM_parameters, probability=True)\n",
    "ss.fit(X_train_sel_features, y_train)\n",
    "accuracySVM = ss.score(X_test_sel_features, y_test)\n",
    "print(\"The SVM accuracy is\",format(accuracySVM))\n",
    "\n"
   ]
  },
  {
   "cell_type": "markdown",
   "id": "irish-criterion",
   "metadata": {},
   "source": [
    "## Evaluate and Output the Confusion Matrix"
   ]
  },
  {
   "cell_type": "code",
   "execution_count": 498,
   "id": "rapid-liabilities",
   "metadata": {},
   "outputs": [
    {
     "name": "stdout",
     "output_type": "stream",
     "text": [
      "Confusion matrix\n",
      "[[367   0   0]\n",
      " [  0  70  42]\n",
      " [  3  59 333]]\n",
      "Normalized confusion matrix\n",
      "[[1.         0.         0.        ]\n",
      " [0.         0.625      0.375     ]\n",
      " [0.00759494 0.14936709 0.84303797]]\n"
     ]
    },
    {
     "data": {
      "image/png": "[encoded data removed]",
      "text/plain": [
       "<Figure size 432x288 with 2 Axes>"
      ]
     },
     "metadata": {
      "needs_background": "light"
     },
     "output_type": "display_data"
    },
    {
     "data": {
      "image/png": "[encoded data removed]",
      "text/plain": [
       "<Figure size 432x288 with 2 Axes>"
      ]
     },
     "metadata": {
      "needs_background": "light"
     },
     "output_type": "display_data"
    }
   ],
   "source": [
    "from sklearn.metrics import confusion_matrix\n",
    "from sklearn.metrics import plot_confusion_matrix\n",
    "import matplotlib.pyplot as plt\n",
    "\n",
    "titles_options = [(\"Confusion matrix\", None),\n",
    "                  (\"Normalized confusion matrix\", 'true')]\n",
    "for title, normalize in titles_options:\n",
    "    disp = plot_confusion_matrix(ss, X_test_sel_features, y_test,\n",
    "                                 display_labels=classes,\n",
    "                                 cmap=plt.cm.Blues,\n",
    "                                 normalize=normalize)\n",
    "    disp.ax_.set_title(title)\n",
    "\n",
    "    print(title)\n",
    "    print(disp.confusion_matrix)\n",
    "\n",
    "plt.show()\n"
   ]
  }
 ],
 "metadata": {
  "kernelspec": {
   "display_name": "Python 3",
   "language": "python",
   "name": "python3"
  },
  "language_info": {
   "codemirror_mode": {
    "name": "ipython",
    "version": 3
   },
   "file_extension": ".py",
   "mimetype": "text/x-python",
   "name": "python",
   "nbconvert_exporter": "python",
   "pygments_lexer": "ipython3",
   "version": "3.8.5"
  },
  "toc": {
   "base_numbering": 1,
   "nav_menu": {},
   "number_sections": true,
   "sideBar": true,
   "skip_h1_title": false,
   "title_cell": "Table of Contents",
   "title_sidebar": "Contents",
   "toc_cell": false,
   "toc_position": {
    "height": "calc(100% - 180px)",
    "left": "10px",
    "top": "150px",
    "width": "268px"
   },
   "toc_section_display": true,
   "toc_window_display": false
  },
  "varInspector": {
   "cols": {
    "lenName": 16,
    "lenType": 16,
    "lenVar": 40
   },
   "kernels_config": {
    "python": {
     "delete_cmd_postfix": "",
     "delete_cmd_prefix": "del ",
     "library": "var_list.py",
     "varRefreshCmd": "print(var_dic_list())"
    },
    "r": {
     "delete_cmd_postfix": ") ",
     "delete_cmd_prefix": "rm(",
     "library": "var_list.r",
     "varRefreshCmd": "cat(var_dic_list()) "
    }
   },
   "position": {
    "height": "566px",
    "left": "1070px",
    "right": "20px",
    "top": "120px",
    "width": "350px"
   },
   "types_to_exclude": [
    "module",
    "function",
    "builtin_function_or_method",
    "instance",
    "_Feature"
   ],
   "window_display": false
  }
 },
 "nbformat": 4,
 "nbformat_minor": 5
}